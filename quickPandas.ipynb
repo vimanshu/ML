{
  "nbformat": 4,
  "nbformat_minor": 0,
  "metadata": {
    "colab": {
      "name": "quickPandas.ipynb",
      "provenance": [],
      "authorship_tag": "ABX9TyMF8K7RJfeHdFd4SINwbASR",
      "include_colab_link": true
    },
    "kernelspec": {
      "name": "python3",
      "display_name": "Python 3"
    }
  },
  "cells": [
    {
      "cell_type": "markdown",
      "metadata": {
        "id": "view-in-github",
        "colab_type": "text"
      },
      "source": [
        "<a href=\"https://colab.research.google.com/github/vimanshu/ML/blob/main/quickPandas.ipynb\" target=\"_parent\"><img src=\"https://colab.research.google.com/assets/colab-badge.svg\" alt=\"Open In Colab\"/></a>"
      ]
    },
    {
      "cell_type": "code",
      "metadata": {
        "id": "9DqP29Q6AmVv"
      },
      "source": [
        "# pandas ultraquick tutorial"
      ],
      "execution_count": 1,
      "outputs": []
    },
    {
      "cell_type": "code",
      "metadata": {
        "id": "32Hqg5NUAsAB"
      },
      "source": [
        "import numpy as np\n",
        "import pandas as pd"
      ],
      "execution_count": 2,
      "outputs": []
    },
    {
      "cell_type": "code",
      "metadata": {
        "colab": {
          "base_uri": "https://localhost:8080/"
        },
        "id": "pN-Cz9ChAxXK",
        "outputId": "5c92ee34-3128-4e68-825b-b3513b953332"
      },
      "source": [
        "# making a data frame with 10 cells having 2 colums named\n",
        "# temp and activity\n",
        "my_data= np.array([[1,2],[1,3],[1,4],[1,5],[1,6]])\n",
        "my_col_name=[\"temp\",\"activity\"]\n",
        "my_df= pd.DataFrame(data=my_data, columns=my_col_name)\n",
        "\n",
        "# let's print the entire df\n",
        "print(my_df)"
      ],
      "execution_count": 3,
      "outputs": [
        {
          "output_type": "stream",
          "text": [
            "   temp  activity\n",
            "0     1         2\n",
            "1     1         3\n",
            "2     1         4\n",
            "3     1         5\n",
            "4     1         6\n"
          ],
          "name": "stdout"
        }
      ]
    },
    {
      "cell_type": "code",
      "metadata": {
        "colab": {
          "base_uri": "https://localhost:8080/"
        },
        "id": "ve4NYrKpBlK0",
        "outputId": "5fef37b2-f13b-4220-af50-d81c509e19ae"
      },
      "source": [
        "# adding a new column to the df\n",
        "# which acn be eassily done\n",
        "my_df[\"ECG\"]= my_df['activity']+365\n",
        "print(my_df)"
      ],
      "execution_count": 4,
      "outputs": [
        {
          "output_type": "stream",
          "text": [
            "   temp  activity  ECG\n",
            "0     1         2  367\n",
            "1     1         3  368\n",
            "2     1         4  369\n",
            "3     1         5  370\n",
            "4     1         6  371\n"
          ],
          "name": "stdout"
        }
      ]
    },
    {
      "cell_type": "code",
      "metadata": {
        "colab": {
          "base_uri": "https://localhost:8080/"
        },
        "id": "tjSqJ0A4B4yG",
        "outputId": "4fdfbfe6-9ef6-4a80-c427-0ac028a9fa4f"
      },
      "source": [
        "# what if i ask you to specify a subset in a df\n",
        "# what am i asking?\n",
        "# so in order to isolate certain rows,cols or specific cells in a df\n",
        "# this is called specifying a subset of the df\n",
        "\n",
        "# suppose i need ionly 3 rows of my df\n",
        "print(my_df.head(3))"
      ],
      "execution_count": 5,
      "outputs": [
        {
          "output_type": "stream",
          "text": [
            "   temp  activity  ECG\n",
            "0     1         2  367\n",
            "1     1         3  368\n",
            "2     1         4  369\n"
          ],
          "name": "stdout"
        }
      ]
    },
    {
      "cell_type": "code",
      "metadata": {
        "colab": {
          "base_uri": "https://localhost:8080/"
        },
        "id": "KHEEqtllCfX_",
        "outputId": "f24ae87d-46a1-4fce-d7d3-f13d173ae949"
      },
      "source": [
        "# here as seen above i'm only getting 3 rows \n",
        "# let's say i only need row 2 \n",
        "print(my_df.iloc[[0]])\n",
        "print(my_df.iloc[[1]])\n",
        "print(my_df.iloc[[2]])"
      ],
      "execution_count": 9,
      "outputs": [
        {
          "output_type": "stream",
          "text": [
            "   temp  activity  ECG\n",
            "0     1         2  367\n",
            "   temp  activity  ECG\n",
            "1     1         3  368\n",
            "   temp  activity  ECG\n",
            "2     1         4  369\n"
          ],
          "name": "stdout"
        }
      ]
    },
    {
      "cell_type": "code",
      "metadata": {
        "colab": {
          "base_uri": "https://localhost:8080/"
        },
        "id": "s6diRcLVCxvp",
        "outputId": "b5da3e07-4ee6-433e-e238-f870cafe31c4"
      },
      "source": [
        "# slicing the df\n",
        "print(my_df[1:4])"
      ],
      "execution_count": 10,
      "outputs": [
        {
          "output_type": "stream",
          "text": [
            "   temp  activity  ECG\n",
            "1     1         3  368\n",
            "2     1         4  369\n",
            "3     1         5  370\n"
          ],
          "name": "stdout"
        }
      ]
    },
    {
      "cell_type": "code",
      "metadata": {
        "colab": {
          "base_uri": "https://localhost:8080/"
        },
        "id": "RTm51pBiDKcA",
        "outputId": "217858ba-0515-4fb9-afb7-a1d8b20a8c5a"
      },
      "source": [
        "# suppose i only need temperature\n",
        "print(my_df[\"temp\"])"
      ],
      "execution_count": 12,
      "outputs": [
        {
          "output_type": "stream",
          "text": [
            "0    1\n",
            "1    1\n",
            "2    1\n",
            "3    1\n",
            "4    1\n",
            "Name: temp, dtype: int64\n"
          ],
          "name": "stdout"
        }
      ]
    },
    {
      "cell_type": "markdown",
      "metadata": {
        "id": "jXJKVZBNGdV9"
      },
      "source": [
        "Do the following:\n",
        "\n",
        "Create an 3x4 (3 rows x 4 columns) pandas DataFrame in which the columns are named Eleanor, Chidi, Tahani, and Jason. Populate each of the 12 cells in the DataFrame with a random integer between 0 and 100, inclusive.\n",
        "\n",
        "Output the following:\n",
        "\n",
        "the entire DataFrame\n",
        "the value in the cell of row #1 of the Eleanor column\n",
        "Create a fifth column named Janet, which is populated with the row-by-row sums of Tahani and Jason.\n"
      ]
    },
    {
      "cell_type": "code",
      "metadata": {
        "colab": {
          "base_uri": "https://localhost:8080/"
        },
        "id": "-5u2Bvu_DboW",
        "outputId": "d1b0fa87-26bf-483d-daed-0b24b609dee1"
      },
      "source": [
        "my_new_data=np.random.randint(low=0, high=101,size=(3,4)) \n",
        "my_cols=[\"Eleanor\",\"chidi\",\"Tahani\",\"Jason\"]\n",
        "my_new_df=pd.DataFrame(data=my_new_data, columns=my_cols)\n",
        "print(my_new_df)\n"
      ],
      "execution_count": 13,
      "outputs": [
        {
          "output_type": "stream",
          "text": [
            "   Eleanor  chidi  Tahani  Jason\n",
            "0       95     59      12     12\n",
            "1       95     22       8     54\n",
            "2       55     46      67     95\n"
          ],
          "name": "stdout"
        }
      ]
    },
    {
      "cell_type": "code",
      "metadata": {
        "id": "dJ4gVhVsIBLq"
      },
      "source": [
        "# Duplication of DataFrame\n",
        "# there are two ways to do it\n",
        "# 1-Refrencing \"assigning the df to the new variable and the change is reflected\"\n",
        "# 2- create an independent copy- pd.DataFrame.copy"
      ],
      "execution_count": 14,
      "outputs": []
    },
    {
      "cell_type": "code",
      "metadata": {
        "colab": {
          "base_uri": "https://localhost:8080/"
        },
        "id": "7bH_A_QrIntB",
        "outputId": "0496b077-3bb1-425e-f06d-98b754d719fe"
      },
      "source": [
        "# creating a refrence of the df\n",
        "ref_df=my_new_df\n",
        "# printing starting value of a dataFrame\n",
        "print(\"starting value of df: %d\" %my_new_df[\"Jason\"][1])\n",
        "my_new_df.at[1,\"Jason\"]= my_new_df[\"Jason\"][1]+5\n",
        "print(\"updated starting value of df: %d\" %my_new_df[\"Jason\"][1])\n",
        "print(ref_df[\"Jason\"][1])"
      ],
      "execution_count": 18,
      "outputs": [
        {
          "output_type": "stream",
          "text": [
            "starting value of df: 59\n",
            "updated starting value of df: 64\n",
            "64\n"
          ],
          "name": "stdout"
        }
      ]
    },
    {
      "cell_type": "code",
      "metadata": {
        "id": "d9A5Xtg4KGEe"
      },
      "source": [
        "#creating the independent copy of the df\n",
        "ind_df= my_new_df.copy()"
      ],
      "execution_count": 19,
      "outputs": []
    },
    {
      "cell_type": "code",
      "metadata": {
        "colab": {
          "base_uri": "https://localhost:8080/"
        },
        "id": "Jg3Q7pJ7KxEd",
        "outputId": "784b6193-de1e-4ec5-cd0a-fbc23299f0a6"
      },
      "source": [
        "print(ind_df)"
      ],
      "execution_count": 20,
      "outputs": [
        {
          "output_type": "stream",
          "text": [
            "   Eleanor  chidi  Tahani  Jason\n",
            "0       95     59      12     12\n",
            "1       95     22       8     64\n",
            "2       55     46      67     95\n"
          ],
          "name": "stdout"
        }
      ]
    },
    {
      "cell_type": "code",
      "metadata": {
        "colab": {
          "base_uri": "https://localhost:8080/"
        },
        "id": "BKTF6OGdKzlA",
        "outputId": "933dc58d-a530-47aa-b4af-6df7d5038118"
      },
      "source": [
        "#let's make some changes here \n",
        "print(ind_df.at[0,\"Eleanor\"])\n",
        "ind_df.at[0,\"Eleanor\"]+=10\n",
        "\n",
        "print(ind_df.at[0,\"Eleanor\"]) \n",
        "print(my_new_df.at[0,\"Eleanor\"]) # this remains unaffected"
      ],
      "execution_count": 24,
      "outputs": [
        {
          "output_type": "stream",
          "text": [
            "115\n",
            "125\n",
            "95\n"
          ],
          "name": "stdout"
        }
      ]
    },
    {
      "cell_type": "code",
      "metadata": {
        "id": "4FJusTk6LFNi"
      },
      "source": [
        ""
      ],
      "execution_count": null,
      "outputs": []
    }
  ]
}